{
 "cells": [
  {
   "cell_type": "markdown",
   "metadata": {},
   "source": [
    "# Importing libraries"
   ]
  },
  {
   "cell_type": "code",
   "execution_count": 1,
   "metadata": {},
   "outputs": [],
   "source": [
    "import pandas as pd"
   ]
  },
  {
   "cell_type": "code",
   "execution_count": 2,
   "metadata": {},
   "outputs": [],
   "source": [
    "import numpy as np\n",
    "import tensorflow as tf\n",
    "from keras.preprocessing.image import ImageDataGenerator"
   ]
  },
  {
   "cell_type": "code",
   "execution_count": 3,
   "metadata": {},
   "outputs": [
    {
     "data": {
      "text/plain": [
       "'2.3.1'"
      ]
     },
     "execution_count": 3,
     "metadata": {},
     "output_type": "execute_result"
    }
   ],
   "source": [
    "tf.__version__"
   ]
  },
  {
   "cell_type": "markdown",
   "metadata": {},
   "source": [
    "# Part 1 - Datapreprocessing"
   ]
  },
  {
   "cell_type": "markdown",
   "metadata": {},
   "source": [
    " - Applying transformation on the training. \n",
    " - This is to avoid overfitting\n",
    " - To avoid high accuracy on training set and low accuracy on test set. This is called 'overfitting'.\n",
    "\n",
    "**Transformations**\n",
    "\n",
    "- Some zooms or rotations on images\n",
    "- The technical term is called image augmentation\n",
    "- Applying the transformations we get new images\n"
   ]
  },
  {
   "cell_type": "markdown",
   "metadata": {},
   "source": [
    "## Preprocessing the training set"
   ]
  },
  {
   "cell_type": "markdown",
   "metadata": {},
   "source": [
    "### ImageDatagen preprocessing code from Keras\n",
    "\n",
    "https://keras.io/api/preprocessing/image/#imagedatagenerator-class"
   ]
  },
  {
   "cell_type": "code",
   "execution_count": 4,
   "metadata": {},
   "outputs": [
    {
     "name": "stdout",
     "output_type": "stream",
     "text": [
      "Found 8000 images belonging to 2 classes.\n"
     ]
    }
   ],
   "source": [
    "#rescale applies feature scaling (normalisation) on each pixel by dividing each pixel \n",
    "#value by 255. This is needed for the algorithm\n",
    "train_datagen = ImageDataGenerator(\n",
    "        rescale=1./255,\n",
    "        shear_range=0.2,\n",
    "        zoom_range=0.2,\n",
    "        horizontal_flip=True)\n",
    "train_set = train_datagen.flow_from_directory(\n",
    "        'training_set',\n",
    "        target_size=(64, 64), #This will make the training much faster\n",
    "        batch_size=32,\n",
    "        class_mode='binary') # This is because we are working on binary outcome\n"
   ]
  },
  {
   "cell_type": "markdown",
   "metadata": {},
   "source": [
    "## Preprocessing the test set"
   ]
  },
  {
   "cell_type": "code",
   "execution_count": 5,
   "metadata": {},
   "outputs": [
    {
     "name": "stdout",
     "output_type": "stream",
     "text": [
      "Found 2000 images belonging to 2 classes.\n"
     ]
    }
   ],
   "source": [
    "#Remember we don't want to apply any transformations on test set, but we still need to \n",
    "#apply feature scaling\n",
    "\n",
    "test_datagen = ImageDataGenerator(rescale=1./255)\n",
    "test_set = test_datagen.flow_from_directory(\n",
    "        'test_set',\n",
    "        target_size=(64, 64),\n",
    "        batch_size=32,\n",
    "        class_mode='binary')\n",
    "\n"
   ]
  },
  {
   "cell_type": "markdown",
   "metadata": {},
   "source": [
    "# Part 2 - Building the CNN"
   ]
  },
  {
   "cell_type": "markdown",
   "metadata": {},
   "source": [
    "### Initialising the CNN"
   ]
  },
  {
   "cell_type": "code",
   "execution_count": 6,
   "metadata": {},
   "outputs": [],
   "source": [
    "# A convulution neural network is a sequence of layers. \n",
    "#Therefore we need to call the sequential class"
   ]
  },
  {
   "cell_type": "code",
   "execution_count": 7,
   "metadata": {},
   "outputs": [],
   "source": [
    "cnn = tf.keras.models.Sequential()"
   ]
  },
  {
   "cell_type": "markdown",
   "metadata": {},
   "source": [
    "### Step 1 - Convolution"
   ]
  },
  {
   "cell_type": "code",
   "execution_count": 8,
   "metadata": {},
   "outputs": [],
   "source": [
    "## This means we are building a feature detector"
   ]
  },
  {
   "cell_type": "code",
   "execution_count": 9,
   "metadata": {},
   "outputs": [],
   "source": [
    "cnn.add(tf.keras.layers.Conv2D(filters=32,kernel_size=3,activation='relu',input_shape=[64,64,3]))"
   ]
  },
  {
   "cell_type": "markdown",
   "metadata": {},
   "source": [
    "### Step 2 - Pooling"
   ]
  },
  {
   "cell_type": "code",
   "execution_count": 10,
   "metadata": {},
   "outputs": [],
   "source": [
    "cnn.add(tf.keras.layers.MaxPool2D(pool_size=2,strides=2))"
   ]
  },
  {
   "cell_type": "markdown",
   "metadata": {},
   "source": [
    "### Adding the second layer"
   ]
  },
  {
   "cell_type": "code",
   "execution_count": 11,
   "metadata": {},
   "outputs": [],
   "source": [
    "cnn.add(tf.keras.layers.Conv2D(filters=32,kernel_size=3,activation='relu')) ## don't need the input layer as already added\n",
    "cnn.add(tf.keras.layers.MaxPool2D(pool_size=2,strides=2))"
   ]
  },
  {
   "cell_type": "markdown",
   "metadata": {},
   "source": [
    "### Step 3 - Flattening"
   ]
  },
  {
   "cell_type": "code",
   "execution_count": 12,
   "metadata": {},
   "outputs": [],
   "source": [
    "cnn.add(tf.keras.layers.Flatten())"
   ]
  },
  {
   "cell_type": "markdown",
   "metadata": {},
   "source": [
    "### Step 4 - Full connection"
   ]
  },
  {
   "cell_type": "code",
   "execution_count": 13,
   "metadata": {},
   "outputs": [],
   "source": [
    "cnn.add(tf.keras.layers.Dense(units=128,activation='relu'))"
   ]
  },
  {
   "cell_type": "markdown",
   "metadata": {},
   "source": [
    "### Step 5 - Output layer"
   ]
  },
  {
   "cell_type": "code",
   "execution_count": 14,
   "metadata": {},
   "outputs": [],
   "source": [
    "cnn.add(tf.keras.layers.Dense(units=1,activation='sigmoid')) # This is because we just want a binary output."
   ]
  },
  {
   "cell_type": "markdown",
   "metadata": {},
   "source": [
    "# Part 3 - Training the CNN"
   ]
  },
  {
   "cell_type": "markdown",
   "metadata": {},
   "source": [
    "### Compiling the CNN"
   ]
  },
  {
   "cell_type": "code",
   "execution_count": 15,
   "metadata": {},
   "outputs": [],
   "source": [
    "cnn.compile(optimizer='adam', loss='binary_crossentropy', metrics=['accuracy'])"
   ]
  },
  {
   "cell_type": "markdown",
   "metadata": {},
   "source": [
    "### Training the cnn on the training and evaluating it on the test set"
   ]
  },
  {
   "cell_type": "code",
   "execution_count": 16,
   "metadata": {},
   "outputs": [
    {
     "name": "stdout",
     "output_type": "stream",
     "text": [
      "Epoch 1/25\n",
      "250/250 [==============================] - 70s 281ms/step - loss: 0.6725 - accuracy: 0.5882 - val_loss: 0.6155 - val_accuracy: 0.6845\n",
      "Epoch 2/25\n",
      "250/250 [==============================] - 63s 253ms/step - loss: 0.6078 - accuracy: 0.6737 - val_loss: 0.5924 - val_accuracy: 0.6990\n",
      "Epoch 3/25\n",
      "250/250 [==============================] - 61s 243ms/step - loss: 0.5655 - accuracy: 0.7044 - val_loss: 0.6335 - val_accuracy: 0.6625\n",
      "Epoch 4/25\n",
      "250/250 [==============================] - 66s 263ms/step - loss: 0.5321 - accuracy: 0.7320 - val_loss: 0.5164 - val_accuracy: 0.7530\n",
      "Epoch 5/25\n",
      "250/250 [==============================] - 63s 252ms/step - loss: 0.5035 - accuracy: 0.7530 - val_loss: 0.5663 - val_accuracy: 0.7195\n",
      "Epoch 6/25\n",
      "250/250 [==============================] - 64s 255ms/step - loss: 0.4882 - accuracy: 0.7606 - val_loss: 0.5071 - val_accuracy: 0.7600\n",
      "Epoch 7/25\n",
      "250/250 [==============================] - 63s 251ms/step - loss: 0.4692 - accuracy: 0.7784 - val_loss: 0.5184 - val_accuracy: 0.7525\n",
      "Epoch 8/25\n",
      "250/250 [==============================] - 63s 251ms/step - loss: 0.4625 - accuracy: 0.7790 - val_loss: 0.4669 - val_accuracy: 0.7880\n",
      "Epoch 9/25\n",
      "250/250 [==============================] - 63s 251ms/step - loss: 0.4417 - accuracy: 0.7880 - val_loss: 0.4789 - val_accuracy: 0.7775\n",
      "Epoch 10/25\n",
      "250/250 [==============================] - 63s 251ms/step - loss: 0.4239 - accuracy: 0.8031 - val_loss: 0.4595 - val_accuracy: 0.7830\n",
      "Epoch 11/25\n",
      "250/250 [==============================] - 63s 250ms/step - loss: 0.4155 - accuracy: 0.8101 - val_loss: 0.4799 - val_accuracy: 0.7740\n",
      "Epoch 12/25\n",
      "250/250 [==============================] - 63s 252ms/step - loss: 0.4077 - accuracy: 0.8100 - val_loss: 0.4923 - val_accuracy: 0.7885\n",
      "Epoch 13/25\n",
      "250/250 [==============================] - 63s 254ms/step - loss: 0.3934 - accuracy: 0.8185 - val_loss: 0.4846 - val_accuracy: 0.7795\n",
      "Epoch 14/25\n",
      "250/250 [==============================] - 63s 253ms/step - loss: 0.3805 - accuracy: 0.8265 - val_loss: 0.4974 - val_accuracy: 0.7840\n",
      "Epoch 15/25\n",
      "250/250 [==============================] - 62s 247ms/step - loss: 0.3667 - accuracy: 0.8330 - val_loss: 0.4995 - val_accuracy: 0.7735\n",
      "Epoch 16/25\n",
      "250/250 [==============================] - 62s 249ms/step - loss: 0.3531 - accuracy: 0.8405 - val_loss: 0.4711 - val_accuracy: 0.7825\n",
      "Epoch 17/25\n",
      "250/250 [==============================] - 62s 248ms/step - loss: 0.3465 - accuracy: 0.8449 - val_loss: 0.5054 - val_accuracy: 0.7890\n",
      "Epoch 18/25\n",
      "250/250 [==============================] - 63s 253ms/step - loss: 0.3311 - accuracy: 0.8526 - val_loss: 0.4927 - val_accuracy: 0.7870\n",
      "Epoch 19/25\n",
      "250/250 [==============================] - 63s 253ms/step - loss: 0.3198 - accuracy: 0.8606 - val_loss: 0.5070 - val_accuracy: 0.7830\n",
      "Epoch 20/25\n",
      "250/250 [==============================] - 63s 254ms/step - loss: 0.3041 - accuracy: 0.8698 - val_loss: 0.5453 - val_accuracy: 0.7735\n",
      "Epoch 21/25\n",
      "250/250 [==============================] - 62s 249ms/step - loss: 0.2881 - accuracy: 0.8801 - val_loss: 0.5135 - val_accuracy: 0.7925\n",
      "Epoch 22/25\n",
      "250/250 [==============================] - 63s 250ms/step - loss: 0.2811 - accuracy: 0.8780 - val_loss: 0.5430 - val_accuracy: 0.7860\n",
      "Epoch 23/25\n",
      "250/250 [==============================] - 64s 255ms/step - loss: 0.2831 - accuracy: 0.8804 - val_loss: 0.5220 - val_accuracy: 0.7815\n",
      "Epoch 24/25\n",
      "250/250 [==============================] - 63s 254ms/step - loss: 0.2606 - accuracy: 0.8860 - val_loss: 0.5279 - val_accuracy: 0.7905\n",
      "Epoch 25/25\n",
      "250/250 [==============================] - 63s 252ms/step - loss: 0.2494 - accuracy: 0.8953 - val_loss: 0.5474 - val_accuracy: 0.7845\n"
     ]
    },
    {
     "data": {
      "text/plain": [
       "<tensorflow.python.keras.callbacks.History at 0x7fce8d457690>"
      ]
     },
     "execution_count": 16,
     "metadata": {},
     "output_type": "execute_result"
    }
   ],
   "source": [
    "cnn.fit(x = train_set, validation_data = test_set, epochs = 25) # Keep changing the epochs and monitor accuracy"
   ]
  },
  {
   "cell_type": "markdown",
   "metadata": {},
   "source": [
    "# Part 4 - Making a prediction"
   ]
  },
  {
   "cell_type": "code",
   "execution_count": 32,
   "metadata": {},
   "outputs": [],
   "source": [
    "from keras.preprocessing import image"
   ]
  },
  {
   "cell_type": "code",
   "execution_count": 33,
   "metadata": {},
   "outputs": [],
   "source": [
    "img_input = 'single_prediction/cat_or_dog_3.jpg'"
   ]
  },
  {
   "cell_type": "code",
   "execution_count": 34,
   "metadata": {},
   "outputs": [],
   "source": [
    "# The size of the test image should be the same as the size of the training images.\n",
    "# During image pre-processing we resized images to 64 x 64 using the target_size parameter\n",
    "\n",
    "test_image = image.load_img(img_input,target_size=(64,64))"
   ]
  },
  {
   "cell_type": "code",
   "execution_count": 35,
   "metadata": {},
   "outputs": [],
   "source": [
    "# In order to be accepted by the predict method we need to change the PIL image into an array\n",
    "\n",
    "test_image = image.img_to_array(test_image)\n",
    "\n",
    "#Remember our CNN was trained on batches of images, which is an extra dimension. \n",
    "#So our single prediction image needs that extra-dimension which corresponds to the batch.\n",
    "\n",
    "test_image = np.expand_dims(test_image, axis=0)# this adds the batch dimension to the image array\n",
    "result = cnn.predict(test_image)\n",
    "train_set.class_indices\n",
    "\n",
    "#remember the result is also inside a batch\n",
    "if result[0][0] == 1:\n",
    "    prediction = 'dog'\n",
    "else:\n",
    "    prediction = 'cat'\n",
    "    \n"
   ]
  },
  {
   "cell_type": "code",
   "execution_count": 36,
   "metadata": {},
   "outputs": [
    {
     "name": "stdout",
     "output_type": "stream",
     "text": [
      "dog\n"
     ]
    }
   ],
   "source": [
    "print(prediction)\n",
    "\n"
   ]
  },
  {
   "cell_type": "code",
   "execution_count": null,
   "metadata": {},
   "outputs": [],
   "source": []
  }
 ],
 "metadata": {
  "kernelspec": {
   "display_name": "Python 3",
   "language": "python",
   "name": "python3"
  },
  "language_info": {
   "codemirror_mode": {
    "name": "ipython",
    "version": 3
   },
   "file_extension": ".py",
   "mimetype": "text/x-python",
   "name": "python",
   "nbconvert_exporter": "python",
   "pygments_lexer": "ipython3",
   "version": "3.7.4"
  }
 },
 "nbformat": 4,
 "nbformat_minor": 2
}
